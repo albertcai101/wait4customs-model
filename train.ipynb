{
 "cells": [
  {
   "cell_type": "code",
   "execution_count": 97,
   "metadata": {},
   "outputs": [],
   "source": [
    "import pandas as pd\n",
    "import xgboost as xgb\n",
    "from sklearn.model_selection import train_test_split\n",
    "from sklearn.preprocessing import LabelEncoder\n",
    "import numpy as np\n",
    "\n",
    "# Load the data\n",
    "df = pd.read_csv('dataset.csv')\n",
    "\n",
    "# Convert 'Airport' and 'Terminal' into categorical numerical codes\n",
    "label_encoder = LabelEncoder()\n",
    "df['Airport'] = label_encoder.fit_transform(df['Airport'])\n",
    "df['Terminal'] = label_encoder.fit_transform(df['Terminal'])"
   ]
  },
  {
   "cell_type": "code",
   "execution_count": 98,
   "metadata": {},
   "outputs": [],
   "source": [
    "# Features\n",
    "X = df[['Airport', 'Terminal', 'Month', 'Day of Month', 'Hour', 'Total Passengers', 'Flights']]\n",
    "\n",
    "# Targets\n",
    "Y = df[['Citizen Avg Wait Time', 'Citizen Max Wait Time', 'Non citizen Avg Wait Time', 'Non citizen Max Wait Time']]"
   ]
  },
  {
   "cell_type": "code",
   "execution_count": 99,
   "metadata": {},
   "outputs": [],
   "source": [
    "# Split the data into training and testing sets\n",
    "X_train, X_test, Y_train, Y_test = train_test_split(X, Y, test_size=0.2, random_state=42)\n",
    "\n",
    "Y_train = 400 * np.log(Y_train + 100) - 800"
   ]
  },
  {
   "cell_type": "code",
   "execution_count": 102,
   "metadata": {},
   "outputs": [
    {
     "name": "stdout",
     "output_type": "stream",
     "text": [
      "Model for Citizen Avg Wait Time trained\n",
      "Model for Citizen Max Wait Time trained\n",
      "Model for Non citizen Avg Wait Time trained\n",
      "Model for Non citizen Max Wait Time trained\n"
     ]
    }
   ],
   "source": [
    "# Initialize column number of XGBoost regressors\n",
    "models = [xgb.XGBRegressor(objective=\"reg:squarederror\") for _ in range(Y.shape[1])]\n",
    "\n",
    "# Train the model on each target\n",
    "for column in Y.columns:\n",
    "    model = models[Y.columns.get_loc(column)]\n",
    "    model.fit(X_train, Y_train[column])\n",
    "    print(f\"Model for {column} trained\")"
   ]
  },
  {
   "cell_type": "code",
   "execution_count": 103,
   "metadata": {},
   "outputs": [
    {
     "name": "stdout",
     "output_type": "stream",
     "text": [
      "Mean Absolute Error for each target on train data when Flights > 0:\n",
      "Mean Absolute Error for Citizen Avg Wait Time: 5.02848548755989\n",
      "Mean Absolute Error for Citizen Max Wait Time: 11.687301762181686\n",
      "Mean Absolute Error for Non citizen Avg Wait Time: 8.668876288289331\n",
      "Mean Absolute Error for Non citizen Max Wait Time: 13.765930590221831\n",
      "\n",
      "\n",
      "Mean Absolute Error for each target on test data:\n",
      "Mean Absolute Error for Citizen Avg Wait Time: 2.009811676106839\n",
      "Mean Absolute Error for Citizen Max Wait Time: 4.649659077803307\n",
      "Mean Absolute Error for Non citizen Avg Wait Time: 3.459789596045741\n",
      "Mean Absolute Error for Non citizen Max Wait Time: 5.47027079670574\n",
      "\n",
      "\n",
      "Mean Absolute Error for each target when Flights > 0:\n",
      "Mean Absolute Error for Citizen Avg Wait Time: 5.190870019222621\n",
      "Mean Absolute Error for Citizen Max Wait Time: 12.042365434374183\n",
      "Mean Absolute Error for Non citizen Avg Wait Time: 8.92594151181394\n",
      "Mean Absolute Error for Non citizen Max Wait Time: 14.153943379460786\n"
     ]
    }
   ],
   "source": [
    "from sklearn.metrics import mean_absolute_error\n",
    "import numpy as np\n",
    "\n",
    "# Evaluate the model on train data\n",
    "print(\"Mean Absolute Error for each target on train data when Flights > 0:\")\n",
    "\n",
    "for column in Y.columns:\n",
    "    model = models[Y.columns.get_loc(column)]\n",
    "    X_train_nonzero_flights = X_train[X_train['Flights'] != 0]\n",
    "    Y_train_nonzero_flights = Y_train[X_train['Flights'] != 0]\n",
    "    predictions = model.predict(X_train_nonzero_flights)\n",
    "    # exponentiate the predictions\n",
    "    predictions = np.exp((predictions + 800) / 400) - 100\n",
    "    predictions = np.maximum(predictions, 0)\n",
    "    mae = mean_absolute_error(np.exp((Y_train_nonzero_flights[column] + 800) / 400) - 100, predictions)\n",
    "    print(f\"Mean Absolute Error for {column}: {mae}\")\n",
    "\n",
    "print(\"\\n\")\n",
    "print(\"Mean Absolute Error for each target on test data:\")\n",
    "# Evaluate the model\n",
    "for column in Y.columns:\n",
    "    model = models[Y.columns.get_loc(column)]\n",
    "    predictions = model.predict(X_test)\n",
    "    # exponentiate the predictions, forward was 400\\log\\left(x+100\\right)\\ -\\ 800\n",
    "    predictions = np.exp((predictions + 800) / 400) - 100\n",
    "    predictions = np.maximum(predictions, 0)\n",
    "    mae = mean_absolute_error(Y_test[column], predictions)\n",
    "    print(f\"Mean Absolute Error for {column}: {mae}\")\n",
    "\n",
    "print(\"\\n\")\n",
    "print(\"Mean Absolute Error for each target when Flights > 0:\")\n",
    "\n",
    "\n",
    "for column in Y.columns:\n",
    "    model = models[Y.columns.get_loc(column)]\n",
    "    X_test_nonzero_flights = X_test[X_test['Flights'] != 0]\n",
    "    Y_test_nonzero_flights = Y_test[X_test['Flights'] != 0]\n",
    "    predictions = model.predict(X_test_nonzero_flights)\n",
    "    # exponentiate the predictions\n",
    "    predictions = np.exp((predictions + 800) / 400) - 100\n",
    "    predictions = np.maximum(predictions, 0)\n",
    "    mae = mean_absolute_error(Y_test_nonzero_flights[column], predictions)\n",
    "    print(f\"Mean Absolute Error for {column}: {mae}\")"
   ]
  },
  {
   "cell_type": "markdown",
   "metadata": {},
   "source": [
    "Mean Absolute Error for Citizen Avg Wait Time: 10.979130625213882\n",
    "Mean Absolute Error for Citizen Max Wait Time: 5.350778216018147\n",
    "Mean Absolute Error for Non citizen Avg Wait Time: 8.336685160896481\n",
    "Mean Absolute Error for Non citizen Max Wait Time: 5.47027079670574\n",
    "\n",
    "\n",
    "Mean Absolute Error for each target when Flights > 0:\n",
    "Mean Absolute Error for Citizen Avg Wait Time: 28.568297172761834\n",
    "Mean Absolute Error for Citizen Max Wait Time: 13.841281887369062\n",
    "Mean Absolute Error for Non citizen Avg Wait Time: 21.65413616887047\n",
    "Mean Absolute Error for Non citizen Max Wait Time: 14.153943379460786"
   ]
  }
 ],
 "metadata": {
  "kernelspec": {
   "display_name": "cs229",
   "language": "python",
   "name": "python3"
  },
  "language_info": {
   "codemirror_mode": {
    "name": "ipython",
    "version": 3
   },
   "file_extension": ".py",
   "mimetype": "text/x-python",
   "name": "python",
   "nbconvert_exporter": "python",
   "pygments_lexer": "ipython3",
   "version": "3.11.2"
  }
 },
 "nbformat": 4,
 "nbformat_minor": 2
}
