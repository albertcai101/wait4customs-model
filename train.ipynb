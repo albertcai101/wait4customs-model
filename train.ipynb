{
 "cells": [
  {
   "cell_type": "code",
   "execution_count": 10,
   "metadata": {},
   "outputs": [],
   "source": [
    "import pandas as pd\n",
    "import xgboost as xgb\n",
    "from sklearn.model_selection import train_test_split\n",
    "from sklearn.preprocessing import LabelEncoder\n",
    "\n",
    "# Load the data\n",
    "df = pd.read_csv('dataset.csv')\n",
    "\n",
    "# Convert 'Airport' and 'Terminal' into categorical numerical codes\n",
    "label_encoder = LabelEncoder()\n",
    "df['Airport'] = label_encoder.fit_transform(df['Airport'])\n",
    "df['Terminal'] = label_encoder.fit_transform(df['Terminal'])\n",
    "\n",
    "# Ensure date and hour fields are in a usable format\n",
    "df['Date'] = pd.to_datetime(df['Date'])  # Ensure 'Date' is a datetime object\n",
    "df['Hour'] = df['Hour'].str.replace(' - ', '').astype(int)  # Convert 'Hour' into a single integer"
   ]
  },
  {
   "cell_type": "code",
   "execution_count": 11,
   "metadata": {},
   "outputs": [
    {
     "name": "stderr",
     "output_type": "stream",
     "text": [
      "/var/folders/bc/y584nv9d3qx21nb9hbpkfx340000gp/T/ipykernel_59962/2946037433.py:3: SettingWithCopyWarning: \n",
      "A value is trying to be set on a copy of a slice from a DataFrame.\n",
      "Try using .loc[row_indexer,col_indexer] = value instead\n",
      "\n",
      "See the caveats in the documentation: https://pandas.pydata.org/pandas-docs/stable/user_guide/indexing.html#returning-a-view-versus-a-copy\n",
      "  X['Date'] = X['Date'].view(int)  # Convert datetime to integer for model compatibility\n"
     ]
    }
   ],
   "source": [
    "# Features\n",
    "X = df[['Airport', 'Terminal', 'Date', 'Hour', 'Total Passengers', 'Flights']]\n",
    "X['Date'] = X['Date'].view(int)  # Convert datetime to integer for model compatibility\n",
    "\n",
    "# Targets\n",
    "Y = df[['Citizen Avg Wait Time', 'Citizen Max Wait Time', 'Non citizen Avg Wait Time', 'Non citizen Max Wait Time']]"
   ]
  },
  {
   "cell_type": "code",
   "execution_count": 12,
   "metadata": {},
   "outputs": [],
   "source": [
    "# Split the data into training and testing sets\n",
    "X_train, X_test, Y_train, Y_test = train_test_split(X, Y, test_size=0.2, random_state=42)"
   ]
  },
  {
   "cell_type": "code",
   "execution_count": 13,
   "metadata": {},
   "outputs": [
    {
     "name": "stdout",
     "output_type": "stream",
     "text": [
      "Trained model for Citizen Avg Wait Time\n",
      "Trained model for Citizen Max Wait Time\n",
      "Trained model for Non citizen Avg Wait Time\n",
      "Trained model for Non citizen Max Wait Time\n"
     ]
    }
   ],
   "source": [
    "# Initialize XGBoost regressors\n",
    "model = xgb.XGBRegressor(objective='reg:squarederror')\n",
    "\n",
    "# Train the model on each target\n",
    "for column in Y.columns:\n",
    "    model.fit(X_train, Y_train[column])\n",
    "    print(f\"Trained model for {column}\")"
   ]
  },
  {
   "cell_type": "code",
   "execution_count": 15,
   "metadata": {},
   "outputs": [
    {
     "name": "stdout",
     "output_type": "stream",
     "text": [
      "Mean Absolute Error for Citizen Avg Wait Time: 11.595244514001323\n",
      "Mean Absolute Error for Citizen Max Wait Time: 5.640284779403384\n",
      "Mean Absolute Error for Non citizen Avg Wait Time: 8.876820477121317\n",
      "Mean Absolute Error for Non citizen Max Wait Time: 5.634629996927397\n"
     ]
    }
   ],
   "source": [
    "from sklearn.metrics import mean_absolute_error\n",
    "\n",
    "# Evaluate the model\n",
    "for column in Y.columns:\n",
    "    predictions = model.predict(X_test)\n",
    "    mae = mean_absolute_error(Y_test[column], predictions)\n",
    "    print(f\"Mean Absolute Error for {column}: {mae}\")"
   ]
  },
  {
   "cell_type": "markdown",
   "metadata": {},
   "source": [
    "Mean Absolute Error for Citizen Avg Wait Time: 11.595244514001323\n",
    "Mean Absolute Error for Citizen Max Wait Time: 5.640284779403384\n",
    "Mean Absolute Error for Non citizen Avg Wait Time: 8.876820477121317\n",
    "Mean Absolute Error for Non citizen Max Wait Time: 5.634629996927397"
   ]
  }
 ],
 "metadata": {
  "kernelspec": {
   "display_name": "cs229",
   "language": "python",
   "name": "python3"
  },
  "language_info": {
   "codemirror_mode": {
    "name": "ipython",
    "version": 3
   },
   "file_extension": ".py",
   "mimetype": "text/x-python",
   "name": "python",
   "nbconvert_exporter": "python",
   "pygments_lexer": "ipython3",
   "version": "3.11.2"
  }
 },
 "nbformat": 4,
 "nbformat_minor": 2
}
